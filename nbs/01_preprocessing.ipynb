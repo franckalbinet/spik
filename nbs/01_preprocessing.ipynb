{
 "cells": [
  {
   "cell_type": "markdown",
   "metadata": {},
   "source": [
    "# Preprocessing\n",
    "\n",
    "> Data preprocessing utilities."
   ]
  },
  {
   "cell_type": "code",
   "execution_count": 1,
   "metadata": {},
   "outputs": [],
   "source": [
    "#| default_exp preprocessing"
   ]
  },
  {
   "cell_type": "code",
   "execution_count": 24,
   "metadata": {},
   "outputs": [],
   "source": [
    "#| export\n",
    "import fastcore.all as fc\n",
    "from pathlib import Path\n",
    "from sklearn.base import BaseEstimator, TransformerMixin\n",
    "from typing import List\n",
    "import numpy as np"
   ]
  },
  {
   "cell_type": "code",
   "execution_count": 5,
   "metadata": {},
   "outputs": [],
   "source": [
    "#|export\n",
    "class MeanCenter(BaseEstimator, TransformerMixin):\n",
    "    \"Mean center spectra.\"\n",
    "    def fit(self, X, y=None): return self\n",
    "    def transform(self, X, y=None):     \n",
    "        return X - X.mean(axis=1, keepdims=True) "
   ]
  },
  {
   "cell_type": "code",
   "execution_count": 38,
   "metadata": {},
   "outputs": [],
   "source": [
    "#|export\n",
    "class MeanReplicates(BaseEstimator, TransformerMixin):\n",
    "    \"Select replicated of specified spectra and average their spiked versions.\"\n",
    "    def __init__(self, \n",
    "                 smp_name:str, # Sample of interest: 'LUI', 'SPA1' or 'TM4.1'.\n",
    "                 names:List, # Names of scanned samples and replicates.\n",
    "                ):        \n",
    "        fc.store_attr()\n",
    "        \n",
    "    def _mean(self, X, substring):\n",
    "        return X[[substring in name for name in self.names],:].mean(axis=0)\n",
    "    \n",
    "    def fit(self, X, y=None): return self\n",
    "        \n",
    "    def transform(self, X, y=None):     \n",
    "        X =  np.array([self._mean(X, f'{self.smp_name}-{idx}') for idx in [0, 1, 2, 3]])\n",
    "        return X - X.mean(axis=1, keepdims=True)"
   ]
  },
  {
   "cell_type": "code",
   "execution_count": 39,
   "metadata": {},
   "outputs": [],
   "source": [
    "#| hide\n",
    "import nbdev; nbdev.nbdev_export()"
   ]
  }
 ],
 "metadata": {
  "kernelspec": {
   "display_name": "Python 3 (ipykernel)",
   "language": "python",
   "name": "python3"
  },
  "language_info": {
   "codemirror_mode": {
    "name": "ipython",
    "version": 3
   },
   "file_extension": ".py",
   "mimetype": "text/x-python",
   "name": "python",
   "nbconvert_exporter": "python",
   "pygments_lexer": "ipython3",
   "version": "3.12.3"
  }
 },
 "nbformat": 4,
 "nbformat_minor": 4
}
