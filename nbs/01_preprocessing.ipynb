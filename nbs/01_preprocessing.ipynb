{
 "cells": [
  {
   "cell_type": "markdown",
   "metadata": {},
   "source": [
    "# Preprocessing\n",
    "\n",
    "> Data preprocessing utilities."
   ]
  },
  {
   "cell_type": "code",
   "execution_count": null,
   "metadata": {},
   "outputs": [],
   "source": [
    "#| default_exp preprocessing"
   ]
  },
  {
   "cell_type": "code",
   "execution_count": null,
   "metadata": {},
   "outputs": [],
   "source": [
    "#| export\n",
    "import fastcore.all as fc\n",
    "from pathlib import Path\n",
    "from sklearn.base import BaseEstimator, TransformerMixin\n",
    "from typing import List\n",
    "import numpy as np\n",
    "import pywt"
   ]
  },
  {
   "cell_type": "code",
   "execution_count": null,
   "metadata": {},
   "outputs": [],
   "source": [
    "#|export\n",
    "class MeanCenter(BaseEstimator, TransformerMixin):\n",
    "    \"Mean center spectra.\"\n",
    "    def fit(self, X, y=None): return self\n",
    "    def transform(self, X, y=None):     \n",
    "        return X - X.mean(axis=1, keepdims=True) "
   ]
  },
  {
   "cell_type": "code",
   "execution_count": null,
   "metadata": {},
   "outputs": [],
   "source": [
    "#|export\n",
    "class MeanReplicates(BaseEstimator, TransformerMixin):\n",
    "    \"Select replicated of specified spectra and average their spiked versions.\"\n",
    "    def __init__(self, \n",
    "                 smp_name:str, # Sample of interest: 'LUI', 'SPA1' or 'TM4.1'.\n",
    "                 names:List, # Names of scanned samples and replicates.\n",
    "                ):        \n",
    "        fc.store_attr()\n",
    "        \n",
    "    def _mean(self, X, substring):\n",
    "        return X[[substring in name for name in self.names],:].mean(axis=0)\n",
    "    \n",
    "    def fit(self, X, y=None): return self\n",
    "        \n",
    "    def transform(self, X, y=None):     \n",
    "        X =  np.array([self._mean(X, f'{self.smp_name}-{idx}') for idx in [0, 1, 2, 3]])\n",
    "        return X - X.mean(axis=1, keepdims=True)"
   ]
  },
  {
   "cell_type": "code",
   "execution_count": null,
   "metadata": {},
   "outputs": [],
   "source": [
    "t = list(range(10))"
   ]
  },
  {
   "cell_type": "code",
   "execution_count": null,
   "metadata": {},
   "outputs": [
    {
     "data": {
      "text/plain": [
       "0"
      ]
     },
     "execution_count": null,
     "metadata": {},
     "output_type": "execute_result"
    }
   ],
   "source": [
    "t[0]"
   ]
  },
  {
   "cell_type": "code",
   "execution_count": null,
   "metadata": {},
   "outputs": [],
   "source": [
    "filtered_levels = [0, -1, -2]"
   ]
  },
  {
   "cell_type": "code",
   "execution_count": null,
   "metadata": {},
   "outputs": [],
   "source": [
    "#[0, \n",
    "#                      len(coeffs) - 1, \n",
    "#                      len(coeffs) - 2, \n",
    "#                      len(coeffs) - 3\n",
    "#                     ]"
   ]
  },
  {
   "cell_type": "code",
   "execution_count": null,
   "metadata": {},
   "outputs": [
    {
     "data": {
      "text/plain": [
       "[0, 9, 8]"
      ]
     },
     "execution_count": null,
     "metadata": {},
     "output_type": "execute_result"
    }
   ],
   "source": [
    "[level if level >=0 else (len(t) + level)  for level in filtered_levels]"
   ]
  },
  {
   "cell_type": "code",
   "execution_count": null,
   "metadata": {},
   "outputs": [],
   "source": [
    "#|export\n",
    "class DWTFiltering(BaseEstimator, TransformerMixin):\n",
    "    def __init__(self, wavelet='db4', filtered_levels=[0, -1, -2]):\n",
    "        fc.store_attr()\n",
    "\n",
    "    def fit(self, X, y=None): return self\n",
    "    def transform(self, X, y=None):     \n",
    "        X_filtered = []\n",
    "        for spectra in X:\n",
    "            coeffs = pywt.wavedec(spectra, self.wavelet, level=None, mode='smooth')\n",
    "    \n",
    "            levels = [level if level >=0 else (len(coeffs) + level)  for level in self.filtered_levels]\n",
    "            \n",
    "            # Set the coefficients to filter to zero\n",
    "            for level in levels:\n",
    "                coeffs[level] = np.zeros_like(coeffs[level])\n",
    "            \n",
    "            X_filtered.append(pywt.waverec(coeffs, self.wavelet, mode='smooth'))\n",
    "        return np.array(X_filtered)"
   ]
  },
  {
   "cell_type": "code",
   "execution_count": null,
   "metadata": {},
   "outputs": [],
   "source": [
    "#|export\n",
    "class DiffFromUnspiked(BaseEstimator, TransformerMixin):\n",
    "    def fit(self, X, y=None): return self\n",
    "    def transform(self, X, y=None): return X[1:] - X[0]"
   ]
  },
  {
   "cell_type": "code",
   "execution_count": null,
   "metadata": {},
   "outputs": [],
   "source": [
    "#| hide\n",
    "import nbdev; nbdev.nbdev_export()"
   ]
  },
  {
   "cell_type": "code",
   "execution_count": null,
   "metadata": {},
   "outputs": [],
   "source": []
  }
 ],
 "metadata": {
  "kernelspec": {
   "display_name": "Python 3 (ipykernel)",
   "language": "python",
   "name": "python3"
  }
 },
 "nbformat": 4,
 "nbformat_minor": 4
}
