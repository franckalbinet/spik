{
 "cells": [
  {
   "cell_type": "markdown",
   "metadata": {},
   "source": [
    "# Loading\n",
    "\n",
    "> Data loading utilities"
   ]
  },
  {
   "cell_type": "code",
   "execution_count": 1,
   "metadata": {},
   "outputs": [],
   "source": [
    "#| default_exp loading"
   ]
  },
  {
   "cell_type": "code",
   "execution_count": 14,
   "metadata": {},
   "outputs": [],
   "source": [
    "#| export\n",
    "import pandas as pd\n",
    "import fastcore.all as fc\n",
    "from pathlib import Path\n",
    "import re"
   ]
  },
  {
   "cell_type": "code",
   "execution_count": 20,
   "metadata": {},
   "outputs": [],
   "source": [
    "# | export\n",
    "def load_mir(src_dir):\n",
    "    \"\"\"\n",
    "    Load MIR spectra of K spiked soil samples.\n",
    "    \n",
    "    Parameters:\n",
    "    src_dir (Path-like object): Directory containing the spectra files.\n",
    "    \n",
    "    Returns:\n",
    "    tuple: Tuple containing the array of absorbance values, \n",
    "           array of wavenumbers (columns), and array of sample names (rows).\n",
    "    \"\"\"\n",
    "    pattern = r'-\\d-\\d$'\n",
    "    fnames = [f for f in src_dir.ls() if re.search(pattern, f.stem)]\n",
    "    \n",
    "    dfs = [pd.read_csv(fname, header=None, names=['wavenumber', 'absorbance'])\n",
    "           .query('649 < wavenumber < 4000')\n",
    "           .assign(name=fname.stem) for fname in fnames]\n",
    "    \n",
    "    df_combined = pd.concat(dfs).pivot_table(values='absorbance', index='name', columns='wavenumber')\n",
    "    \n",
    "    return df_combined.values, df_combined.columns.values, df_combined.index.values.astype('U')\n"
   ]
  },
  {
   "cell_type": "markdown",
   "metadata": {},
   "source": [
    "For example:"
   ]
  },
  {
   "cell_type": "code",
   "execution_count": 21,
   "metadata": {},
   "outputs": [],
   "source": [
    "# |eval: false\n",
    "src_dir = Path().home() / 'pro/data/k-spiking/mir'\n",
    "X, wavenumbers, names = load_mir(src_dir)"
   ]
  },
  {
   "cell_type": "code",
   "execution_count": 22,
   "metadata": {},
   "outputs": [],
   "source": [
    "# | export\n",
    "def load_nir(fname):\n",
    "    \"\"\"\n",
    "    Load NIR spectra of K spiked soil samples.\n",
    "    \n",
    "    Parameters:\n",
    "    fname (str or Path-like object): File name or path of the Excel file.\n",
    "    \n",
    "    Returns:\n",
    "    tuple: Tuple containing the array of spectral values, \n",
    "           array of wavenumbers (columns), and array of sample names (rows).\n",
    "    \"\"\"\n",
    "    df = pd.read_excel(fname, sheet_name='Results', index_col='Sample ID')\n",
    "    df.index.name = 'name'\n",
    "    df.columns.name = 'wavenumber'\n",
    "    \n",
    "    return df.values, df.columns.values, df.index.values.astype('U')"
   ]
  },
  {
   "cell_type": "markdown",
   "metadata": {},
   "source": [
    "For example:"
   ]
  },
  {
   "cell_type": "code",
   "execution_count": 23,
   "metadata": {},
   "outputs": [],
   "source": [
    "# |eval: false\n",
    "fname = Path().home() / 'pro/data/k-spiking/nir/2023-12-8 _FT-NIR-K-spiked soil.xlsx'\n",
    "X, wavenumbers, names = load_nir_kex_spike(fname)"
   ]
  },
  {
   "cell_type": "code",
   "execution_count": 24,
   "metadata": {},
   "outputs": [],
   "source": [
    "#| hide\n",
    "import nbdev; nbdev.nbdev_export()"
   ]
  }
 ],
 "metadata": {
  "kernelspec": {
   "display_name": "Python 3 (ipykernel)",
   "language": "python",
   "name": "python3"
  },
  "language_info": {
   "codemirror_mode": {
    "name": "ipython",
    "version": 3
   },
   "file_extension": ".py",
   "mimetype": "text/x-python",
   "name": "python",
   "nbconvert_exporter": "python",
   "pygments_lexer": "ipython3",
   "version": "3.12.3"
  }
 },
 "nbformat": 4,
 "nbformat_minor": 4
}
